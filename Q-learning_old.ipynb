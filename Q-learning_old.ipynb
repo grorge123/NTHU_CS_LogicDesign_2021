{
 "cells": [
  {
   "cell_type": "code",
   "execution_count": 1,
   "id": "c65ee7e2",
   "metadata": {},
   "outputs": [
    {
     "name": "stdout",
     "output_type": "stream",
     "text": [
      "pygame 2.1.0 (SDL 2.0.16, Python 3.9.7)\n",
      "Hello from the pygame community. https://www.pygame.org/contribute.html\n"
     ]
    }
   ],
   "source": [
    "import pongGym\n",
    "import random\n",
    "import numpy as np\n",
    "import os\n",
    "env = pongGym.DoublePong()\n",
    "PAD_HEIGHT = 80\n",
    "HALF_PAD_HEIGHT = PAD_HEIGHT // 2"
   ]
  },
  {
   "cell_type": "code",
   "execution_count": 2,
   "id": "c6acbf27",
   "metadata": {},
   "outputs": [],
   "source": [
    "def encode(state):\n",
    "    pd1y = state[21]\n",
    "    pd2y = state[23]\n",
    "    st = [(max(0, state[i*4+0] + state[i*4+2] * 6), abs(state[i*4+1] + state[i*4+3] * 6), state[i*4+2], state[i*4+3]) for i in range(5)]\n",
    "    st.sort(key = lambda s: s[0])\n",
    "\n",
    "    now = 1\n",
    "    re = 0\n",
    "#     print(st)\n",
    "    for i in range(5):\n",
    "        ty = 0\n",
    "        if(st[i][1] > pd1y + HALF_PAD_HEIGHT):\n",
    "            ty = 1\n",
    "        elif(st[i][1] < pd1y - HALF_PAD_HEIGHT):\n",
    "            ty = 2\n",
    "        re += now * ty\n",
    "        now *= 3\n",
    "        ty = 0\n",
    "        if(st[i][1] > pd2y + HALF_PAD_HEIGHT):\n",
    "            ty = 1\n",
    "        elif(st[i][1] < pd2y - HALF_PAD_HEIGHT):\n",
    "            ty = 2\n",
    "        re += now * ty\n",
    "        now *= 3\n",
    "    return re\n",
    "state = env.reset()"
   ]
  },
  {
   "cell_type": "code",
   "execution_count": 3,
   "id": "277a7154",
   "metadata": {},
   "outputs": [],
   "source": [
    "\n",
    "q_table = np.zeros([(3*3)**5, env.action_space.n])\n",
    "weight_path = \"q_learning_{}.npy\".format(6)\n",
    "if os.path.isfile(weight_path):\n",
    "    with open(weight_path, 'rb') as f:\n",
    "        q_table = np.load(f)"
   ]
  },
  {
   "cell_type": "code",
   "execution_count": 4,
   "id": "45847657",
   "metadata": {},
   "outputs": [
    {
     "name": "stdout",
     "output_type": "stream",
     "text": [
      "[[ 0.1274877   0.07788784  0.07879286  0.07786862]\n",
      " [-0.30133649  0.19674236 -0.44835252 -0.50409405]\n",
      " [-0.16218652 -0.33833229  0.04829282  0.32232379]\n",
      " ...\n",
      " [ 0.17429188  1.20161317  0.18021038  0.19645067]\n",
      " [-0.71974425 -0.33437606 -1.00515132 -0.80647568]\n",
      " [-0.29368287 -0.66451678 -0.58727237 -0.00464195]]\n"
     ]
    }
   ],
   "source": [
    "print(q_table)"
   ]
  },
  {
   "cell_type": "code",
   "execution_count": null,
   "id": "15098d32",
   "metadata": {},
   "outputs": [
    {
     "name": "stdout",
     "output_type": "stream",
     "text": [
      "Episode: 100\n",
      "average reward: -91.25\n",
      "Episode: 200\n",
      "average reward: -53.9\n",
      "Episode: 300\n",
      "average reward: -20.46\n",
      "Episode: 400\n",
      "average reward: -29.71\n",
      "Episode: 500\n",
      "average reward: 20.61\n",
      "Episode: 600\n",
      "average reward: 11.73\n",
      "Episode: 700\n",
      "average reward: 46.59\n",
      "Episode: 800\n",
      "average reward: 23.29\n",
      "Episode: 900\n",
      "average reward: -13.98\n",
      "Episode: 1000\n",
      "average reward: -31.06\n",
      "Episode: 1100\n",
      "average reward: -36.25\n",
      "Episode: 1200\n",
      "average reward: 47.82\n",
      "Episode: 1300\n",
      "average reward: -24.63\n",
      "Episode: 1400\n",
      "average reward: -2.0\n",
      "Episode: 1500\n",
      "average reward: -15.62\n",
      "Episode: 1600\n",
      "average reward: 46.31\n",
      "Episode: 1700\n",
      "average reward: 7.57\n",
      "Episode: 1800\n",
      "average reward: -40.66\n",
      "Episode: 1900\n",
      "average reward: -40.24\n",
      "Episode: 2000\n",
      "average reward: -39.01\n",
      "Episode: 2100\n",
      "average reward: 30.51\n",
      "Episode: 2200\n",
      "average reward: 52.61\n",
      "Episode: 2300\n",
      "average reward: -26.0\n",
      "Episode: 2400\n",
      "average reward: -19.59\n",
      "Episode: 2500\n",
      "average reward: -20.8\n"
     ]
    }
   ],
   "source": [
    "import random\n",
    "from IPython.display import clear_output\n",
    "\n",
    "# Hyperparameters\n",
    "alpha = 0.1\n",
    "gamma = 0.6\n",
    "epsilon = 0.2\n",
    "\n",
    "# For plotting metrics\n",
    "all_epochs = []\n",
    "all_penalties = []\n",
    "all_reward = 0\n",
    "\n",
    "for i in range(1, 100001):\n",
    "    state = env.reset()\n",
    "    state = encode(state)\n",
    "    epochs, penalties, reward, = 0, 0, 0\n",
    "    done = False\n",
    "    \n",
    "    while not done:\n",
    "        if random.uniform(0, 1) < epsilon:\n",
    "            action = env.action_space.sample() # Explore action space\n",
    "        else:\n",
    "            action = np.argmax(q_table[state]) # Exploit learned values\n",
    "        next_state, reward, done, info = env.step(action)\n",
    "        next_state = encode(next_state)\n",
    "        old_value = q_table[state, action]\n",
    "        next_max = np.max(q_table[next_state])\n",
    "        \n",
    "        new_value = (1 - alpha) * old_value + alpha * (reward + gamma * next_max)\n",
    "        q_table[state, action] = new_value\n",
    "\n",
    "        if reward == -10:\n",
    "            penalties += 1\n",
    "        all_reward += reward\n",
    "        state = next_state\n",
    "        epochs += 1\n",
    "        \n",
    "    if i % 100 == 0:\n",
    "#         clear_output(wait=True)\n",
    "        print(f\"Episode: {i}\")\n",
    "        print(f\"average reward: {all_reward / 100}\")\n",
    "        all_reward = 0\n",
    "\n",
    "print(\"Training finished.\\n\")"
   ]
  },
  {
   "cell_type": "code",
   "execution_count": null,
   "id": "7945f918",
   "metadata": {},
   "outputs": [],
   "source": [
    "with open(weight_path, 'wb') as f:\n",
    "    np.save(f, q_table)"
   ]
  },
  {
   "cell_type": "code",
   "execution_count": null,
   "id": "e21f9b0e",
   "metadata": {},
   "outputs": [],
   "source": [
    "import time\n",
    "total_epochs, total_penalties = 0, 0\n",
    "episodes = 10\n",
    "total_reward = 0\n",
    "for _ in range(episodes):\n",
    "    state = env.reset()\n",
    "    state = encode(state)\n",
    "    epochs, penalties, reward = 0, 0, 0\n",
    "    \n",
    "    done = False\n",
    "    \n",
    "    while not done:\n",
    "        action = np.argmax(q_table[state])\n",
    "        state, reward, done, info = env.step(action)\n",
    "        state = encode(state)\n",
    "        if reward == -10:\n",
    "            penalties += 1\n",
    "        \n",
    "        epochs += 1\n",
    "        total_reward += reward\n",
    "#         env.render()\n",
    "#         time.sleep(1/60)\n",
    "    total_penalties += penalties\n",
    "    total_epochs += epochs\n",
    "\n",
    "print(f\"Results after {episodes} episodes:\")\n",
    "print(f\"Average timesteps per episode: {total_epochs / episodes}\")\n",
    "print(f\"Average penalties per episode: {total_penalties / episodes}\")\n",
    "print(f\"Average reward per episode: {total_reward / episodes}\")"
   ]
  },
  {
   "cell_type": "code",
   "execution_count": null,
   "id": "76699544",
   "metadata": {},
   "outputs": [],
   "source": []
  }
 ],
 "metadata": {
  "kernelspec": {
   "display_name": "Python 3 (ipykernel)",
   "language": "python",
   "name": "python3"
  },
  "language_info": {
   "codemirror_mode": {
    "name": "ipython",
    "version": 3
   },
   "file_extension": ".py",
   "mimetype": "text/x-python",
   "name": "python",
   "nbconvert_exporter": "python",
   "pygments_lexer": "ipython3",
   "version": "3.9.7"
  }
 },
 "nbformat": 4,
 "nbformat_minor": 5
}
