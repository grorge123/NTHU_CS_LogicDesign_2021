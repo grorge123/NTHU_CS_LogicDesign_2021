{
 "cells": [
  {
   "cell_type": "code",
   "execution_count": 1,
   "id": "c65ee7e2",
   "metadata": {},
   "outputs": [
    {
     "name": "stdout",
     "output_type": "stream",
     "text": [
      "pygame 2.1.0 (SDL 2.0.16, Python 3.9.7)\n",
      "Hello from the pygame community. https://www.pygame.org/contribute.html\n"
     ]
    }
   ],
   "source": [
    "import pongGym\n",
    "import random\n",
    "import numpy as np\n",
    "import os\n",
    "env = pongGym.DoublePong()\n",
    "PAD_HEIGHT = 80\n",
    "HALF_PAD_HEIGHT = PAD_HEIGHT // 2"
   ]
  },
  {
   "cell_type": "code",
   "execution_count": 2,
   "id": "c6acbf27",
   "metadata": {},
   "outputs": [],
   "source": [
    "def encode(state):\n",
    "    pd1y = state[21]\n",
    "    pd2y = state[23]\n",
    "    st = [(max(0, state[i*4+0] + state[i*4+2] * 3), abs(state[i*4+1] + state[i*4+3] * 3), state[i*4+2], state[i*4+3]) for i in range(5)]\n",
    "    st.sort(key = lambda s: s[0])\n",
    "\n",
    "    now = 1\n",
    "    re = 0\n",
    "#     print(st)\n",
    "    for i in range(5):\n",
    "        ty = 0\n",
    "        if(st[i][1] > pd1y + HALF_PAD_HEIGHT):\n",
    "            ty = 1\n",
    "        elif(st[i][1] < pd1y - HALF_PAD_HEIGHT):\n",
    "            ty = 2\n",
    "        re += now * ty\n",
    "        now *= 3\n",
    "        ty = 0\n",
    "        if(st[i][1] > pd2y + HALF_PAD_HEIGHT):\n",
    "            ty = 1\n",
    "        elif(st[i][1] < pd2y - HALF_PAD_HEIGHT):\n",
    "            ty = 2\n",
    "        re += now * ty\n",
    "        now *= 3\n",
    "    return re\n",
    "state = env.reset()"
   ]
  },
  {
   "cell_type": "code",
   "execution_count": 3,
   "id": "277a7154",
   "metadata": {},
   "outputs": [],
   "source": [
    "\n",
    "q_table = np.zeros([(3*3)**5, env.action_space.n])\n",
    "weight_path = \"q_learning_{}.npy\".format(3)\n",
    "if os.path.isfile(weight_path):\n",
    "    with open(weight_path, 'rb') as f:\n",
    "        q_table = np.load(f)"
   ]
  },
  {
   "cell_type": "code",
   "execution_count": 4,
   "id": "45847657",
   "metadata": {},
   "outputs": [
    {
     "name": "stdout",
     "output_type": "stream",
     "text": [
      "[[0. 0. 0. 0.]\n",
      " [0. 0. 0. 0.]\n",
      " [0. 0. 0. 0.]\n",
      " ...\n",
      " [0. 0. 0. 0.]\n",
      " [0. 0. 0. 0.]\n",
      " [0. 0. 0. 0.]]\n"
     ]
    }
   ],
   "source": [
    "print(q_table)"
   ]
  },
  {
   "cell_type": "code",
   "execution_count": null,
   "id": "15098d32",
   "metadata": {},
   "outputs": [
    {
     "name": "stdout",
     "output_type": "stream",
     "text": [
      "Episode: 100\n",
      "average reward: 187.07\n",
      "Episode: 200\n",
      "average reward: 294.95\n",
      "Episode: 300\n",
      "average reward: 334.32\n",
      "Episode: 400\n",
      "average reward: 388.02\n",
      "Episode: 500\n",
      "average reward: 395.59\n",
      "Episode: 600\n",
      "average reward: 403.76\n"
     ]
    }
   ],
   "source": [
    "import random\n",
    "from IPython.display import clear_output\n",
    "\n",
    "# Hyperparameters\n",
    "alpha = 0.1\n",
    "gamma = 0.9\n",
    "epsilon = 0.2\n",
    "\n",
    "# For plotting metrics\n",
    "all_epochs = []\n",
    "all_penalties = []\n",
    "all_reward = 0\n",
    "\n",
    "for i in range(1, 100001):\n",
    "    state = env.reset()\n",
    "    state = encode(state)\n",
    "    epochs, penalties, reward, = 0, 0, 0\n",
    "    done = False\n",
    "    \n",
    "    while not done:\n",
    "        if random.uniform(0, 1) < epsilon:\n",
    "            action = env.action_space.sample() # Explore action space\n",
    "        else:\n",
    "            action = np.argmax(q_table[state]) # Exploit learned values\n",
    "        next_state, reward, done, info = env.step(action)\n",
    "        next_state = encode(next_state)\n",
    "        old_value = q_table[state, action]\n",
    "        next_max = np.max(q_table[next_state])\n",
    "        \n",
    "        new_value = (1 - alpha) * old_value + alpha * (reward + gamma * next_max)\n",
    "        q_table[state, action] = new_value\n",
    "\n",
    "        if reward == -10:\n",
    "            penalties += 1\n",
    "        all_reward += reward\n",
    "        state = next_state\n",
    "        epochs += 1\n",
    "        \n",
    "    if i % 100 == 0:\n",
    "#         clear_output(wait=True)\n",
    "        print(f\"Episode: {i}\")\n",
    "        print(f\"average reward: {all_reward / 100}\")\n",
    "        all_reward = 0\n",
    "\n",
    "print(\"Training finished.\\n\")"
   ]
  },
  {
   "cell_type": "code",
   "execution_count": 6,
   "id": "7945f918",
   "metadata": {},
   "outputs": [],
   "source": [
    "with open(weight_path, 'wb') as f:\n",
    "    np.save(f, q_table)"
   ]
  },
  {
   "cell_type": "code",
   "execution_count": 7,
   "id": "e21f9b0e",
   "metadata": {},
   "outputs": [
    {
     "name": "stdout",
     "output_type": "stream",
     "text": [
      "Results after 10 episodes:\n",
      "Average timesteps per episode: 10801.0\n",
      "Average penalties per episode: 108.6\n",
      "Average reward per episode: 28.0\n"
     ]
    }
   ],
   "source": [
    "import time\n",
    "total_epochs, total_penalties = 0, 0\n",
    "episodes = 10\n",
    "total_reward = 0\n",
    "for _ in range(episodes):\n",
    "    state = env.reset()\n",
    "    state = encode(state)\n",
    "    epochs, penalties, reward = 0, 0, 0\n",
    "    \n",
    "    done = False\n",
    "    \n",
    "    while not done:\n",
    "        action = np.argmax(q_table[state])\n",
    "        state, reward, done, info = env.step(action)\n",
    "        state = encode(state)\n",
    "        if reward == -10:\n",
    "            penalties += 1\n",
    "        \n",
    "        epochs += 1\n",
    "        total_reward += reward\n",
    "#         env.render()\n",
    "#         time.sleep(1/60)\n",
    "    total_penalties += penalties\n",
    "    total_epochs += epochs\n",
    "\n",
    "print(f\"Results after {episodes} episodes:\")\n",
    "print(f\"Average timesteps per episode: {total_epochs / episodes}\")\n",
    "print(f\"Average penalties per episode: {total_penalties / episodes}\")\n",
    "print(f\"Average reward per episode: {total_reward / episodes}\")"
   ]
  },
  {
   "cell_type": "code",
   "execution_count": null,
   "id": "76699544",
   "metadata": {},
   "outputs": [],
   "source": []
  }
 ],
 "metadata": {
  "kernelspec": {
   "display_name": "Python 3 (ipykernel)",
   "language": "python",
   "name": "python3"
  },
  "language_info": {
   "codemirror_mode": {
    "name": "ipython",
    "version": 3
   },
   "file_extension": ".py",
   "mimetype": "text/x-python",
   "name": "python",
   "nbconvert_exporter": "python",
   "pygments_lexer": "ipython3",
   "version": "3.9.7"
  }
 },
 "nbformat": 4,
 "nbformat_minor": 5
}
