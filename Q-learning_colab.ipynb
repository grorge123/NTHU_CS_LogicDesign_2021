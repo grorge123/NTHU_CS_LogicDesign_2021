{
 "cells": [
  {
   "cell_type": "code",
   "execution_count": 1,
   "id": "d27f033e",
   "metadata": {},
   "outputs": [
    {
     "name": "stdout",
     "output_type": "stream",
     "text": [
      "pygame 2.1.0 (SDL 2.0.16, Python 3.9.7)\n",
      "Hello from the pygame community. https://www.pygame.org/contribute.html\n"
     ]
    }
   ],
   "source": [
    "import pongGym\n",
    "import random\n",
    "import numpy as np\n",
    "import os\n",
    "env = pongGym.DoublePong()\n",
    "PAD_HEIGHT = 80\n",
    "HALF_PAD_HEIGHT = PAD_HEIGHT // 2"
   ]
  },
  {
   "cell_type": "code",
   "execution_count": 2,
   "id": "5fbaa655",
   "metadata": {},
   "outputs": [],
   "source": [
    "def encode(state):\n",
    "    pd1y = state[21]\n",
    "    pd2y = state[23]\n",
    "    st = [(max(0, state[i*4+0] + state[i*4+2] * 4), abs(state[i*4+1] + state[i*4+3] * 4), state[i*4+2], state[i*4+3]) for i in range(5)]\n",
    "    st.sort(key = lambda s: s[0])\n",
    "\n",
    "    now = 1\n",
    "    re = 0\n",
    "#     print(st)\n",
    "    for i in range(5):\n",
    "        ty = 0\n",
    "        if(st[i][1] > pd1y + HALF_PAD_HEIGHT):\n",
    "            ty = 1\n",
    "        elif(st[i][1] < pd1y - HALF_PAD_HEIGHT):\n",
    "            ty = 2\n",
    "        re += now * ty\n",
    "        now *= 3\n",
    "        ty = 0\n",
    "        if(st[i][1] > pd2y + HALF_PAD_HEIGHT):\n",
    "            ty = 1\n",
    "        elif(st[i][1] < pd2y - HALF_PAD_HEIGHT):\n",
    "            ty = 2\n",
    "        re += now * ty\n",
    "        now *= 3\n",
    "    return re\n",
    "state = env.reset()"
   ]
  },
  {
   "cell_type": "code",
   "execution_count": 3,
   "id": "a3655514",
   "metadata": {},
   "outputs": [],
   "source": [
    "\n",
    "q_table = np.zeros([(3*3)**5, env.action_space.n])\n",
    "weight_path = \"q_learning_{}.npy\".format(4)\n",
    "if os.path.isfile(weight_path):\n",
    "    with open(weight_path, 'rb') as f:\n",
    "        q_table = np.load(f)"
   ]
  },
  {
   "cell_type": "code",
   "execution_count": 4,
   "id": "d18f2e1e",
   "metadata": {},
   "outputs": [
    {
     "name": "stdout",
     "output_type": "stream",
     "text": [
      "[[ 1.06466167e-01  8.01375274e-02  8.41591268e-02  8.15176614e-02]\n",
      " [-1.21703288e+00 -5.12403226e-01 -2.61653441e-01 -1.06906776e-01]\n",
      " [ 2.13744683e-01  7.27000728e-02  4.91299486e-02  3.55403474e-02]\n",
      " ...\n",
      " [ 1.61184688e-03  1.90624795e-01  1.47851643e-01  4.16032662e-01]\n",
      " [-3.58954168e-01  6.76874376e-02  9.38189186e-02 -2.32618770e-01]\n",
      " [-4.90054813e-01 -1.06798833e+00 -1.80961927e+00 -1.94436221e-01]]\n"
     ]
    }
   ],
   "source": [
    "print(q_table)"
   ]
  },
  {
   "cell_type": "code",
   "execution_count": null,
   "id": "1d38651e",
   "metadata": {},
   "outputs": [
    {
     "name": "stdout",
     "output_type": "stream",
     "text": [
      "Episode: 100\n",
      "average reward: 432.65\n",
      "Episode: 200\n",
      "average reward: 515.39\n"
     ]
    }
   ],
   "source": [
    "import random\n",
    "from IPython.display import clear_output\n",
    "\n",
    "# Hyperparameters\n",
    "alpha = 0.1\n",
    "gamma = 0.9\n",
    "epsilon = 0.2\n",
    "\n",
    "# For plotting metrics\n",
    "all_epochs = []\n",
    "all_penalties = []\n",
    "all_reward = 0\n",
    "\n",
    "for i in range(1, 100001):\n",
    "    state = env.reset()\n",
    "    state = encode(state)\n",
    "    epochs, penalties, reward, = 0, 0, 0\n",
    "    done = False\n",
    "    \n",
    "    while not done:\n",
    "        if random.uniform(0, 1) < epsilon:\n",
    "            action = env.action_space.sample() # Explore action space\n",
    "        else:\n",
    "            action = np.argmax(q_table[state]) # Exploit learned values\n",
    "        next_state, reward, done, info = env.step(action) \n",
    "        next_state = encode(next_state)\n",
    "        old_value = q_table[state, action]\n",
    "        next_max = np.max(q_table[next_state])\n",
    "        \n",
    "        new_value = (1 - alpha) * old_value + alpha * (reward + gamma * next_max)\n",
    "        q_table[state, action] = new_value\n",
    "\n",
    "        if reward == -10:\n",
    "            penalties += 1\n",
    "        all_reward += reward\n",
    "        state = next_state\n",
    "        epochs += 1\n",
    "    if i % 100 == 0:\n",
    "#         clear_output(wait=True)\n",
    "        print(f\"Episode: {i}\")\n",
    "        print(f\"average reward: {all_reward / 100}\")\n",
    "        all_reward = 0\n",
    "        \n",
    "print(\"Training finished.\\n\")"
   ]
  },
  {
   "cell_type": "code",
   "execution_count": 12,
   "id": "ac22127c",
   "metadata": {},
   "outputs": [],
   "source": [
    "with open(weight_path, 'wb') as f:\n",
    "    np.save(f, q_table)"
   ]
  },
  {
   "cell_type": "code",
   "execution_count": 14,
   "id": "3530f556",
   "metadata": {},
   "outputs": [
    {
     "ename": "KeyboardInterrupt",
     "evalue": "",
     "output_type": "error",
     "traceback": [
      "\u001b[0;31m---------------------------------------------------------------------------\u001b[0m",
      "\u001b[0;31mKeyboardInterrupt\u001b[0m                         Traceback (most recent call last)",
      "\u001b[0;32m/tmp/ipykernel_34442/126901499.py\u001b[0m in \u001b[0;36m<module>\u001b[0;34m\u001b[0m\n\u001b[1;32m     20\u001b[0m         \u001b[0mtotal_reward\u001b[0m \u001b[0;34m+=\u001b[0m \u001b[0mreward\u001b[0m\u001b[0;34m\u001b[0m\u001b[0;34m\u001b[0m\u001b[0m\n\u001b[1;32m     21\u001b[0m         \u001b[0menv\u001b[0m\u001b[0;34m.\u001b[0m\u001b[0mrender\u001b[0m\u001b[0;34m(\u001b[0m\u001b[0;34m)\u001b[0m\u001b[0;34m\u001b[0m\u001b[0;34m\u001b[0m\u001b[0m\n\u001b[0;32m---> 22\u001b[0;31m         \u001b[0mtime\u001b[0m\u001b[0;34m.\u001b[0m\u001b[0msleep\u001b[0m\u001b[0;34m(\u001b[0m\u001b[0;36m1\u001b[0m\u001b[0;34m/\u001b[0m\u001b[0;36m60\u001b[0m\u001b[0;34m)\u001b[0m\u001b[0;34m\u001b[0m\u001b[0;34m\u001b[0m\u001b[0m\n\u001b[0m\u001b[1;32m     23\u001b[0m     \u001b[0mtotal_penalties\u001b[0m \u001b[0;34m+=\u001b[0m \u001b[0mpenalties\u001b[0m\u001b[0;34m\u001b[0m\u001b[0;34m\u001b[0m\u001b[0m\n\u001b[1;32m     24\u001b[0m     \u001b[0mtotal_epochs\u001b[0m \u001b[0;34m+=\u001b[0m \u001b[0mepochs\u001b[0m\u001b[0;34m\u001b[0m\u001b[0;34m\u001b[0m\u001b[0m\n",
      "\u001b[0;31mKeyboardInterrupt\u001b[0m: "
     ]
    }
   ],
   "source": [
    "import time\n",
    "total_epochs, total_penalties = 0, 0\n",
    "episodes = 100\n",
    "total_reward = 0\n",
    "for _ in range(episodes):\n",
    "    state = env.reset()\n",
    "    state = encode(state)\n",
    "    epochs, penalties, reward = 0, 0, 0\n",
    "    \n",
    "    done = False\n",
    "    \n",
    "    while not done:\n",
    "        action = np.argmax(q_table[state])\n",
    "        state, reward, done, info = env.step(action)\n",
    "        state = encode(state)\n",
    "        if reward == -10:\n",
    "            penalties += 1\n",
    "        \n",
    "        epochs += 1\n",
    "        total_reward += reward\n",
    "        env.render()\n",
    "        time.sleep(1/60)\n",
    "    total_penalties += penalties\n",
    "    total_epochs += epochs\n",
    "\n",
    "print(f\"Results after {episodes} episodes:\")\n",
    "print(f\"Average timesteps per episode: {total_epochs / episodes}\")\n",
    "print(f\"Average penalties per episode: {total_penalties / episodes}\")\n",
    "print(f\"Average reward per episode: {total_reward / episodes}\")"
   ]
  },
  {
   "cell_type": "code",
   "execution_count": 11,
   "id": "a92aea5b",
   "metadata": {},
   "outputs": [],
   "source": [
    "with open(\"weight.coe\", 'w') as f:\n",
    "    f.write(\"memory_initialization_radix=10;\\n\")\n",
    "    f.write(\"memory_initialization_vector=\\n\")\n",
    "    for i in range(3**10):\n",
    "        f.write(str(np.argmax(q_table[i])))\n",
    "        if(i == 3**10 - 1):\n",
    "            f.write(\";\\n\")\n",
    "        else:\n",
    "            f.write(\",\\n\")"
   ]
  },
  {
   "cell_type": "code",
   "execution_count": null,
   "id": "1f769028",
   "metadata": {},
   "outputs": [],
   "source": []
  }
 ],
 "metadata": {
  "kernelspec": {
   "display_name": "Python 3 (ipykernel)",
   "language": "python",
   "name": "python3"
  },
  "language_info": {
   "codemirror_mode": {
    "name": "ipython",
    "version": 3
   },
   "file_extension": ".py",
   "mimetype": "text/x-python",
   "name": "python",
   "nbconvert_exporter": "python",
   "pygments_lexer": "ipython3",
   "version": "3.9.7"
  }
 },
 "nbformat": 4,
 "nbformat_minor": 5
}
