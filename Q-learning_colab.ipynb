{
 "cells": [
  {
   "cell_type": "code",
   "execution_count": 4,
   "id": "2eb60b4f",
   "metadata": {},
   "outputs": [],
   "source": [
    "import pongGym\n",
    "import random\n",
    "import numpy as np\n",
    "import os\n",
    "env = pongGym.DoublePong()\n",
    "PAD_HEIGHT = 80\n",
    "HALF_PAD_HEIGHT = PAD_HEIGHT // 2"
   ]
  },
  {
   "cell_type": "code",
   "execution_count": 80,
   "id": "1016ec09",
   "metadata": {},
   "outputs": [],
   "source": [
    "def encode(state):\n",
    "    pd1y = state[21]\n",
    "    pd2y = state[23]\n",
    "    st = [(state[i*4+0], state[i*4+1], state[i*4+2], state[i*4+3]) for i in range(5)]\n",
    "    st.sort(key = lambda s: s[0])\n",
    "\n",
    "    now = 1\n",
    "    re = 0\n",
    "#     print(st)\n",
    "    for i in range(5):\n",
    "        ty = 0\n",
    "        if(st[i][1] > pd1y + HALF_PAD_HEIGHT):\n",
    "            ty = 1\n",
    "        elif(st[i][1] < pd1y - HALF_PAD_HEIGHT):\n",
    "            ty = 2\n",
    "        re += now * ty\n",
    "        now *= 3\n",
    "        ty = 0\n",
    "        if(st[i][1] > pd2y + HALF_PAD_HEIGHT):\n",
    "            ty = 1\n",
    "        elif(st[i][1] < pd2y - HALF_PAD_HEIGHT):\n",
    "            ty = 2\n",
    "        re += now * ty\n",
    "        now *= 3\n",
    "    return re\n",
    "state = env.reset()"
   ]
  },
  {
   "cell_type": "code",
   "execution_count": 81,
   "id": "ce2a29c3",
   "metadata": {},
   "outputs": [
    {
     "name": "stdout",
     "output_type": "stream",
     "text": [
      "Timesteps taken: 10801\n",
      "Penalties incurred: 117\n"
     ]
    }
   ],
   "source": [
    "epochs = 0\n",
    "penalties, reward = 0, 0\n",
    "\n",
    "frames = [] # for animation\n",
    "state = env.reset()\n",
    "done = False\n",
    "\n",
    "\n",
    "while not done:\n",
    "    action = random.randrange(0,4)\n",
    "    state, reward, done, info = env.step(action)\n",
    "    state = encode(state)\n",
    "    if reward == -10:\n",
    "        penalties += 1\n",
    "    \n",
    "    # Put each rendered frame into dict for animation\n",
    "    frames.append({\n",
    "        'state': state,\n",
    "        'action': action,\n",
    "        'reward': reward\n",
    "        }\n",
    "    )\n",
    "\n",
    "    epochs += 1\n",
    "    \n",
    "    \n",
    "print(\"Timesteps taken: {}\".format(epochs))\n",
    "print(\"Penalties incurred: {}\".format(penalties))\n"
   ]
  },
  {
   "cell_type": "code",
   "execution_count": 82,
   "id": "bb132382",
   "metadata": {},
   "outputs": [
    {
     "name": "stdout",
     "output_type": "stream",
     "text": [
      "[0. 0. 0. 0.]\n"
     ]
    }
   ],
   "source": [
    "\n",
    "q_table = np.zeros([env.observation_space.n, env.action_space.n])\n",
    "if os.path.isfile(\"q_learning.npy\"):\n",
    "    with open('q_learning.npy', 'rb') as f:\n",
    "        q_table = np.load(f)"
   ]
  },
  {
   "cell_type": "code",
   "execution_count": null,
   "id": "cbf2d836",
   "metadata": {},
   "outputs": [
    {
     "name": "stdout",
     "output_type": "stream",
     "text": [
      "Episode: 4700\n"
     ]
    }
   ],
   "source": [
    "import random\n",
    "from IPython.display import clear_output\n",
    "\n",
    "# Hyperparameters\n",
    "alpha = 0.1\n",
    "gamma = 0.6\n",
    "epsilon = 0.1\n",
    "\n",
    "# For plotting metrics\n",
    "all_epochs = []\n",
    "all_penalties = []\n",
    "\n",
    "for i in range(1, 100001):\n",
    "    state = env.reset()\n",
    "    state = encode(state)\n",
    "    epochs, penalties, reward, = 0, 0, 0\n",
    "    done = False\n",
    "    \n",
    "    while not done:\n",
    "        if random.uniform(0, 1) < epsilon:\n",
    "            action = env.action_space.sample() # Explore action space\n",
    "        else:\n",
    "            action = np.argmax(q_table[state]) # Exploit learned values\n",
    "        next_state, reward, done, info = env.step(action) \n",
    "        next_state = encode(next_state)\n",
    "        old_value = q_table[state, action]\n",
    "        next_max = np.max(q_table[next_state])\n",
    "        \n",
    "        new_value = (1 - alpha) * old_value + alpha * (reward + gamma * next_max)\n",
    "        q_table[state, action] = new_value\n",
    "\n",
    "        if reward == -10:\n",
    "            penalties += 1\n",
    "\n",
    "        state = next_state\n",
    "        epochs += 1\n",
    "        \n",
    "    if i % 100 == 0:\n",
    "        clear_output(wait=True)\n",
    "        print(f\"Episode: {i}\")\n",
    "\n",
    "print(\"Training finished.\\n\")"
   ]
  },
  {
   "cell_type": "code",
   "execution_count": null,
   "id": "db23be09",
   "metadata": {},
   "outputs": [],
   "source": [
    "with open('q_learning.npy', 'wb') as f:\n",
    "    np.save(f, q_table)"
   ]
  },
  {
   "cell_type": "code",
   "execution_count": null,
   "id": "40137cb4",
   "metadata": {},
   "outputs": [],
   "source": [
    "total_epochs, total_penalties = 0, 0\n",
    "episodes = 100\n",
    "\n",
    "for _ in range(episodes):\n",
    "    state = env.reset()\n",
    "    state = encode(state)\n",
    "    epochs, penalties, reward = 0, 0, 0\n",
    "    \n",
    "    done = False\n",
    "    \n",
    "    while not done:\n",
    "        action = np.argmax(q_table[state])\n",
    "        state, reward, done, info = env.step(action)\n",
    "        state = encode(state)\n",
    "        if reward == -10:\n",
    "            penalties += 1\n",
    "\n",
    "        epochs += 1\n",
    "#         env.render()\n",
    "    total_penalties += penalties\n",
    "    total_epochs += epochs\n",
    "\n",
    "print(f\"Results after {episodes} episodes:\")\n",
    "print(f\"Average timesteps per episode: {total_epochs / episodes}\")\n",
    "print(f\"Average penalties per episode: {total_penalties / episodes}\")"
   ]
  }
 ],
 "metadata": {
  "kernelspec": {
   "display_name": "Python 3 (ipykernel)",
   "language": "python",
   "name": "python3"
  },
  "language_info": {
   "codemirror_mode": {
    "name": "ipython",
    "version": 3
   },
   "file_extension": ".py",
   "mimetype": "text/x-python",
   "name": "python",
   "nbconvert_exporter": "python",
   "pygments_lexer": "ipython3",
   "version": "3.9.6"
  }
 },
 "nbformat": 4,
 "nbformat_minor": 5
}
